{
 "cells": [
  {
   "attachments": {},
   "cell_type": "markdown",
   "id": "11a12b4b-bae0-4e28-b353-adcdd5e1677a",
   "metadata": {},
   "source": [
    "# Definition of Convexity\n",
    "## 2.2\n",
    "Show that a set is convex if and only if its intersection with any line is\n",
    "convext. Show that a set is affine if and only if its intersection with any\n",
    "line is affine."
   ]
  },
  {
   "attachments": {},
   "cell_type": "markdown",
   "id": "dbf07da4-ac82-4aae-9883-37a1b797d63d",
   "metadata": {
    "tags": []
   },
   "source": [
    "### Solution"
   ]
  }
 ],
 "metadata": {
  "kernelspec": {
   "display_name": "Python 3",
   "language": "python",
   "name": "python3"
  },
  "language_info": {
   "codemirror_mode": {
    "name": "ipython",
    "version": 3
   },
   "file_extension": ".py",
   "mimetype": "text/x-python",
   "name": "python",
   "nbconvert_exporter": "python",
   "pygments_lexer": "ipython3",
   "version": "3.9.6"
  },
  "vscode": {
   "interpreter": {
    "hash": "31f2aee4e71d21fbe5cf8b01ff0e069b9275f58929596ceb00d14d90e3e16cd6"
   }
  }
 },
 "nbformat": 4,
 "nbformat_minor": 5
}
