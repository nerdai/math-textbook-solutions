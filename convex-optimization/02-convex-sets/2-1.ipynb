{
 "cells": [
  {
   "cell_type": "markdown",
   "id": "11a12b4b-bae0-4e28-b353-adcdd5e1677a",
   "metadata": {},
   "source": [
    "# Definition of Convexity\n",
    "## 2.1\n",
    "Let $C\\subseteq R^n$ be a convex set, with $x_1,\\ldots,x_n \\in C$, and let\n",
    "$\\theta_1,\\ldots,\\theta_k \\in R$ satisfy $\\theta_i \\geq 0$, $\\theta_1 + \\cdots\n",
    "\\theta_k = 1$. Show that $\\theta_1 x_1 + \\cdots + \\theta_k x_k \\in C$. (The\n",
    "definition of convexity is that this holds for $k=2$; you must show it for\n",
    "arbitrary $k$.) *Hint.* Use induction on $k$."
   ]
  },
  {
   "cell_type": "markdown",
   "id": "dbf07da4-ac82-4aae-9883-37a1b797d63d",
   "metadata": {
    "tags": []
   },
   "source": [
    "### Solution\n",
    "\n",
    "**Base case:**\n",
    "\n",
    "By definition of convexity, $k=2$ holds.\n",
    "\n",
    "**Inductive Step:**\n",
    "\n",
    "Assume this holds for $k=m$ for $m>2$, and prove \n",
    "\n",
    "$$\n",
    "\\theta_1 x_1 + \\cdots \\theta_m x_m + \\theta_{m+1} x_{m+1} \\in C.\n",
    "$$"
   ]
  },
  {
   "cell_type": "code",
   "execution_count": null,
   "id": "c295cb9a-2ff1-4785-a986-db2513c422d2",
   "metadata": {},
   "outputs": [],
   "source": []
  }
 ],
 "metadata": {
  "kernelspec": {
   "display_name": "Python 3 (ipykernel)",
   "language": "python",
   "name": "python3"
  },
  "language_info": {
   "codemirror_mode": {
    "name": "ipython",
    "version": 3
   },
   "file_extension": ".py",
   "mimetype": "text/x-python",
   "name": "python",
   "nbconvert_exporter": "python",
   "pygments_lexer": "ipython3",
   "version": "3.11.2"
  }
 },
 "nbformat": 4,
 "nbformat_minor": 5
}
