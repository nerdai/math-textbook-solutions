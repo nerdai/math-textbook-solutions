{
 "cells": [
  {
   "cell_type": "markdown",
   "id": "11a12b4b-bae0-4e28-b353-adcdd5e1677a",
   "metadata": {},
   "source": [
    "# Definition of Convexity\n",
    "## 2.1\n",
    "Let $C\\subseteq R^n$ be a convex set, with $x_1,\\ldots,x_n \\in C$, and let\n",
    "$\\theta_1,\\ldots,\\theta_k \\in R$ satisfy $\\theta_i \\geq 0$, $\\theta_1 + \\cdots\n",
    "\\theta_k = 1$. Show that $\\theta_1 x_1 + \\cdots + \\theta_k x_k \\in C$. (The\n",
    "definition of convexity is that this holds for $k=2$; you must show it for\n",
    "arbitrary $k$.) *Hint.* Use induction on $k$."
   ]
  },
  {
   "attachments": {},
   "cell_type": "markdown",
   "id": "dbf07da4-ac82-4aae-9883-37a1b797d63d",
   "metadata": {
    "tags": []
   },
   "source": [
    "### Solution\n",
    "\n",
    "**Base case:**\n",
    "\n",
    "By definition of convexity, $k=2$ holds.\n",
    "\n",
    "**Inductive Step:**\n",
    "\n",
    "Assume this holds for $k=m$ for $m>2$, and prove \n",
    "\n",
    "$$\n",
    "\\theta_1 x_1 + \\cdots \\theta_m x_m + \\theta_{m+1} x_{m+1} \\in C.\n",
    "$$\n",
    "\n",
    "Let $y=\\sum_{i=1}^m\\theta_i x_i + \\theta_{m+1}x_{m+1}$ (assume $\\theta_{m+1} \n",
    "\\neq 1$). With some elementary algebra, it readily follows that:\n",
    "\n",
    "$$\n",
    "y = (1 - \\theta_{m+1})\\bigg(\\sum_{i=1}^m \\mu_i \\theta_i\\bigg) \n",
    "+ \\theta_{m+1}x_{m+1}.\n",
    "$$\n",
    "\n",
    "Since $\\sum_{i=1}^m \\mu_i = 1$, it follows from the inductive assumption that\n",
    "$\\sum_{i=1}^m \\mu_i \\theta_i \\in C$. Moreover, by definition of convexity, and\n",
    "since $x_{m+1} \\in C$, it must be that $y\\in C$.\n",
    "\n",
    "$\\blacksquare$"
   ]
  }
 ],
 "metadata": {
  "kernelspec": {
   "display_name": "Python 3",
   "language": "python",
   "name": "python3"
  },
  "language_info": {
   "codemirror_mode": {
    "name": "ipython",
    "version": 3
   },
   "file_extension": ".py",
   "mimetype": "text/x-python",
   "name": "python",
   "nbconvert_exporter": "python",
   "pygments_lexer": "ipython3",
   "version": "3.9.6"
  },
  "vscode": {
   "interpreter": {
    "hash": "31f2aee4e71d21fbe5cf8b01ff0e069b9275f58929596ceb00d14d90e3e16cd6"
   }
  }
 },
 "nbformat": 4,
 "nbformat_minor": 5
}
