{
 "cells": [
  {
   "cell_type": "markdown",
   "id": "11a12b4b-bae0-4e28-b353-adcdd5e1677a",
   "metadata": {},
   "source": [
    "# Definition of Convexity\n",
    "## 2.1\n",
    "Let $C\\subseteq R^n$ be a convext set, with $x_1,\\ldots,x_n \\in C$, and let\n",
    "$\\theta_1,\\ldots,\\theta_k \\in R$ satisfy $\\theta_i \\geq 0$, $\\theta_1 + \\cdots\n",
    "\\theta_k = 1$. Show that $\\theta_1 x_1 + \\cdots + \\theta_k x_k \\in C$. (The\n",
    "definition of convexity8 is that this holds for $k=2$; you must show it for\n",
    "arbitrary $k$.) *Hint.* Use induction on $k$."
   ]
  },
  {
   "cell_type": "code",
   "execution_count": null,
   "id": "1c99af00-a634-44f0-bb96-dd61fed533f2",
   "metadata": {},
   "outputs": [],
   "source": []
  }
 ],
 "metadata": {
  "kernelspec": {
   "display_name": "Python 3 (ipykernel)",
   "language": "python",
   "name": "python3"
  },
  "language_info": {
   "codemirror_mode": {
    "name": "ipython",
    "version": 3
   },
   "file_extension": ".py",
   "mimetype": "text/x-python",
   "name": "python",
   "nbconvert_exporter": "python",
   "pygments_lexer": "ipython3",
   "version": "3.10.8"
  }
 },
 "nbformat": 4,
 "nbformat_minor": 5
}
